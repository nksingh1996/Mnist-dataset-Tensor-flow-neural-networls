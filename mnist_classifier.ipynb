{
 "cells": [
  {
   "cell_type": "markdown",
   "metadata": {},
   "source": [
    "# Tensor neural network for mnist dataset"
   ]
  },
  {
   "cell_type": "markdown",
   "metadata": {},
   "source": [
    "### Input Data > layer1 ( weights* data + biases , activation ) >  next layer( weights*data + biases , activation) > output( weights*data + biases)\n",
    "\n",
    "### compare predicted to actual > cost_function( cross entropy )\n",
    "### Activation function > ( Adagrad, AdamOptimizer, SGD  , etc. )"
   ]
  },
  {
   "cell_type": "code",
   "execution_count": 2,
   "metadata": {
    "collapsed": true
   },
   "outputs": [],
   "source": [
    "import tensorflow as tf\n",
    "from tensorflow.examples.tutorials.mnist import input_data"
   ]
  },
  {
   "cell_type": "code",
   "execution_count": 5,
   "metadata": {},
   "outputs": [
    {
     "name": "stdout",
     "output_type": "stream",
     "text": [
      "Extracting /tmp/data/train-images-idx3-ubyte.gz\n",
      "Extracting /tmp/data/train-labels-idx1-ubyte.gz\n",
      "Extracting /tmp/data/t10k-images-idx3-ubyte.gz\n",
      "Extracting /tmp/data/t10k-labels-idx1-ubyte.gz\n"
     ]
    }
   ],
   "source": [
    "mnist = input_data.read_data_sets(\"/tmp/data\", one_hot=True)\n",
    "n_nodes_hl1 = 100\n",
    "n_nodes_hl2 = 100\n",
    "n_nodes_hl3 = 100\n",
    "\n",
    "n_class = 10\n",
    "batch_size = 100\n"
   ]
  },
  {
   "cell_type": "code",
   "execution_count": 55,
   "metadata": {
    "collapsed": true
   },
   "outputs": [],
   "source": [
    "x = tf.placeholder('float', shape = [None, 784])\n",
    "y = tf.placeholder('float')"
   ]
  },
  {
   "cell_type": "code",
   "execution_count": 56,
   "metadata": {
    "collapsed": true
   },
   "outputs": [],
   "source": [
    "def neural_network_model(data):\n",
    "    hl1 = {'weights': tf.Variable(tf.random_normal(shape = [ 784, n_nodes_hl1 ])), \n",
    "           'biases': tf.Variable(tf.random_normal(shape = [ n_nodes_hl1 ]))}\n",
    "    hl2 = {\"weights\" : tf.Variable(tf.random_normal(shape = [n_nodes_hl1, n_nodes_hl2])),\n",
    "          \"biases\" : tf.Variable(tf.random_normal(shape = [ n_nodes_hl2 ]))}\n",
    "    hl3 = {\"weights\" : tf.Variable(tf.random_normal(shape = [n_nodes_hl2, n_nodes_hl3])),\n",
    "          \"biases\" : tf.Variable(tf.random_normal(shape = [n_nodes_hl3]))}\n",
    "    output_w = {\"weights\": tf.Variable(tf.random_normal(shape = [n_nodes_hl3, n_class])),\n",
    "              \"biases\": tf.Variable(tf.random_normal(shape = [10])) }\n",
    "    \n",
    "    l1 = tf.add( tf.matmul( data , hl1[\"weights\"] ) , hl1[\"biases\"] )\n",
    "    l1 = tf.nn.relu(l1)\n",
    "    \n",
    "    l2 = tf.add( tf.matmul(l1, hl2[\"weights\"]) , hl2[\"biases\"])\n",
    "    l2 = tf.nn.relu(l2)\n",
    "    \n",
    "    l3 = tf.add( tf.matmul(l2, hl3[\"weights\"]) , hl3[\"biases\"] )\n",
    "    l3 = tf.nn.relu(l3)\n",
    "    \n",
    "    output = tf.add( tf.matmul(l3, output_w[\"weights\"]) , output_w[\"biases\"] )\n",
    "    \n",
    "    return output"
   ]
  },
  {
   "cell_type": "code",
   "execution_count": 74,
   "metadata": {
    "collapsed": true
   },
   "outputs": [],
   "source": [
    "def train_nn(x):\n",
    "    prediction = neural_network_model(x)\n",
    "    cost = tf.reduce_mean( tf.nn.softmax_cross_entropy_with_logits(logits = prediction,labels =  y) )\n",
    "    optimizer = tf.train.AdamOptimizer().minimize(cost)\n",
    "    \n",
    "    hm_epochs = 10\n",
    "    \n",
    "    with tf.Session() as sess:\n",
    "        sess.run(tf.global_variables_initializer())\n",
    "        \n",
    "        for i in range(hm_epochs):\n",
    "            for _ in range(int(mnist.train.num_examples/batch_size)):\n",
    "                epoch_x,epoch_y = mnist.train.next_batch(batch_size)\n",
    "                temp = sess.run([optimizer, cost], feed_dict = {x: epoch_x, y: epoch_y} )\n",
    "            print(\"epochs completed {} and epoch loss is {}\".format(i, temp[1]))\n",
    "        \n",
    "        correct = tf.equal(tf.argmax(prediction, 1), tf.argmax(y, 1))\n",
    "        accuracy = tf.reduce_mean(tf.cast(correct, 'float'))\n",
    "        \n",
    "        a = accuracy.eval({x:mnist.test.images, y: mnist.test.labels })\n",
    "        print(\"accuracy is {}\".format(a) )"
   ]
  },
  {
   "cell_type": "code",
   "execution_count": 82,
   "metadata": {
    "collapsed": true
   },
   "outputs": [],
   "source": [
    "epoch_x,epoch_y = mnist.train.next_batch(batch_size)"
   ]
  },
  {
   "cell_type": "code",
   "execution_count": 75,
   "metadata": {},
   "outputs": [
    {
     "name": "stdout",
     "output_type": "stream",
     "text": [
      "epochs completed 0 and epoch loss is 168.2245635986328\n",
      "epochs completed 1 and epoch loss is 64.86734771728516\n",
      "epochs completed 2 and epoch loss is 74.99687194824219\n",
      "epochs completed 3 and epoch loss is 23.039440155029297\n",
      "epochs completed 4 and epoch loss is 27.234760284423828\n",
      "epochs completed 5 and epoch loss is 32.47646713256836\n",
      "epochs completed 6 and epoch loss is 27.840272903442383\n",
      "epochs completed 7 and epoch loss is 23.907543182373047\n",
      "epochs completed 8 and epoch loss is 17.058073043823242\n",
      "epochs completed 9 and epoch loss is 13.74814224243164\n",
      "accuracy is 0.8973000049591064\n"
     ]
    }
   ],
   "source": [
    "train_nn(x)"
   ]
  },
  {
   "cell_type": "code",
   "execution_count": 64,
   "metadata": {},
   "outputs": [
    {
     "name": "stdout",
     "output_type": "stream",
     "text": [
      "epochs completed 0 and epoch loss is 172.72000122070312\n",
      "epochs completed 1 and epoch loss is 114.0231704711914\n",
      "epochs completed 2 and epoch loss is 94.37490844726562\n",
      "epochs completed 3 and epoch loss is 41.520050048828125\n",
      "epochs completed 4 and epoch loss is 34.81108856201172\n",
      "epochs completed 5 and epoch loss is 32.13104248046875\n",
      "epochs completed 6 and epoch loss is 11.833702087402344\n",
      "epochs completed 7 and epoch loss is 28.1912841796875\n",
      "epochs completed 8 and epoch loss is 17.548351287841797\n",
      "epochs completed 9 and epoch loss is 19.14581298828125\n",
      "accuracy is 0.8945000171661377\n"
     ]
    }
   ],
   "source": [
    "train_nn(x)"
   ]
  }
 ],
 "metadata": {
  "kernelspec": {
   "display_name": "Python 3",
   "language": "python",
   "name": "python3"
  },
  "language_info": {
   "codemirror_mode": {
    "name": "ipython",
    "version": 3
   },
   "file_extension": ".py",
   "mimetype": "text/x-python",
   "name": "python",
   "nbconvert_exporter": "python",
   "pygments_lexer": "ipython3",
   "version": "3.6.2"
  }
 },
 "nbformat": 4,
 "nbformat_minor": 2
}
